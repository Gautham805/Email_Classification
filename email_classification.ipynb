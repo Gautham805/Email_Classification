{
  "nbformat": 4,
  "nbformat_minor": 0,
  "metadata": {
    "colab": {
      "provenance": []
    },
    "kernelspec": {
      "name": "python3",
      "display_name": "Python 3"
    },
    "language_info": {
      "name": "python"
    }
  },
  "cells": [
    {
      "cell_type": "code",
      "source": [
        "import pandas as pd\n",
        "from sklearn.model_selection import train_test_split\n",
        "from sklearn.preprocessing import LabelEncoder\n",
        "from sklearn.linear_model import LogisticRegression\n",
        "from sklearn.naive_bayes import MultinomialNB\n",
        "from sklearn.metrics import accuracy_score, classification_report, confusion_matrix\n",
        "from sklearn.feature_extraction.text import CountVectorizer\n",
        "import string\n",
        "import joblib\n",
        "from scipy.sparse import hstack\n",
        "\n",
        "# Load the dataset\n",
        "df = pd.read_csv(\"spam.csv\", encoding='latin-1')[['v1', 'v2']].rename(columns={'v1': 'label', 'v2': 'text'})\n",
        "\n",
        "# Convert labels to numerical format (ham -> 0, spam -> 1)\n",
        "df['label'] = LabelEncoder().fit_transform(df['label'])\n",
        "\n",
        "# Feature engineering: Extract basic non-NLP features\n",
        "df['text_length'] = df['text'].apply(len)\n",
        "df['num_digits'] = df['text'].apply(lambda x: sum(c.isdigit() for c in x))\n",
        "df['num_uppercase'] = df['text'].apply(lambda x: sum(1 for c in x if c.isupper()))\n",
        "df['num_special_chars'] = df['text'].apply(lambda x: sum(1 for c in x if c in string.punctuation))\n",
        "\n",
        "# Define feature set for numeric features\n",
        "X_numeric = df[['text_length', 'num_digits', 'num_uppercase', 'num_special_chars']]\n",
        "y = df['label']\n",
        "\n",
        "# Vectorization: Convert text to numeric features using CountVectorizer\n",
        "vectorizer = CountVectorizer(stop_words='english', max_features=1000)  # Using raw counts\n",
        "X_text = vectorizer.fit_transform(df['text'])\n",
        "\n",
        "# Combine numeric features with text-based features for both models\n",
        "X_combined = hstack([X_text, X_numeric])\n",
        "\n",
        "# Split into train and test sets\n",
        "X_train, X_test, y_train, y_test = train_test_split(X_combined, y, test_size=0.2, random_state=42, stratify=y)\n",
        "\n",
        "# Train Logistic Regression model\n",
        "lr_model = LogisticRegression(max_iter=1000, random_state=42, C=1.0, solver='liblinear')  # 'liblinear' for smaller datasets\n",
        "lr_model.fit(X_train, y_train)\n",
        "y_pred_lr = lr_model.predict(X_test)\n",
        "\n",
        "# Train Naïve Bayes model\n",
        "nb_model = MultinomialNB(alpha=1.0)  # Laplace smoothing (alpha=1)\n",
        "nb_model.fit(X_train.toarray(), y_train)  # Naive Bayes requires dense input\n",
        "y_pred_nb = nb_model.predict(X_test.toarray())\n",
        "\n",
        "# Evaluate models\n",
        "print(\"Logistic Regression Results:\")\n",
        "print(classification_report(y_test, y_pred_lr))\n",
        "print(\"Accuracy:\", accuracy_score(y_test, y_pred_lr))\n",
        "\n",
        "print(\"\\nNaïve Bayes Results:\")\n",
        "print(classification_report(y_test, y_pred_nb))\n",
        "print(\"Accuracy:\", accuracy_score(y_test, y_pred_nb))\n",
        "\n",
        "# Confusion Matrix\n",
        "print(\"Logistic Regression Confusion Matrix:\\n\", confusion_matrix(y_test, y_pred_lr))\n",
        "print(\"Naïve Bayes Confusion Matrix:\\n\", confusion_matrix(y_test, y_pred_nb))\n",
        "\n",
        "# Save models\n",
        "joblib.dump(lr_model, 'spam_classifier_lr.pkl')\n",
        "joblib.dump(nb_model, 'spam_classifier_nb.pkl')\n",
        "joblib.dump(vectorizer, 'vectorizer.pkl')\n"
      ],
      "metadata": {
        "colab": {
          "base_uri": "https://localhost:8080/"
        },
        "id": "VYShxcYgNjf6",
        "outputId": "c774b2e1-3b44-4c8f-83b0-4db1ea6f59de"
      },
      "execution_count": 53,
      "outputs": [
        {
          "output_type": "stream",
          "name": "stdout",
          "text": [
            "Logistic Regression Results:\n",
            "              precision    recall  f1-score   support\n",
            "\n",
            "           0       0.99      1.00      0.99       966\n",
            "           1       0.99      0.92      0.95       149\n",
            "\n",
            "    accuracy                           0.99      1115\n",
            "   macro avg       0.99      0.96      0.97      1115\n",
            "weighted avg       0.99      0.99      0.99      1115\n",
            "\n",
            "Accuracy: 0.9883408071748879\n",
            "\n",
            "Naïve Bayes Results:\n",
            "              precision    recall  f1-score   support\n",
            "\n",
            "           0       0.99      0.97      0.98       966\n",
            "           1       0.81      0.92      0.86       149\n",
            "\n",
            "    accuracy                           0.96      1115\n",
            "   macro avg       0.90      0.94      0.92      1115\n",
            "weighted avg       0.96      0.96      0.96      1115\n",
            "\n",
            "Accuracy: 0.9596412556053812\n",
            "Logistic Regression Confusion Matrix:\n",
            " [[965   1]\n",
            " [ 12 137]]\n",
            "Naïve Bayes Confusion Matrix:\n",
            " [[933  33]\n",
            " [ 12 137]]\n"
          ]
        },
        {
          "output_type": "execute_result",
          "data": {
            "text/plain": [
              "['vectorizer.pkl']"
            ]
          },
          "metadata": {},
          "execution_count": 53
        }
      ]
    }
  ]
}